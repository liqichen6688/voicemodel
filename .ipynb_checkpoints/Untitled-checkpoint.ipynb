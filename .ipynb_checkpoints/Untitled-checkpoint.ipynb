{
 "cells": [
  {
   "cell_type": "code",
   "execution_count": 2,
   "metadata": {},
   "outputs": [],
   "source": [
    "# import gbdt\n",
    "import numpy as np\n",
    "import pandas as pd\n",
    "import matplotlib.pyplot as plt\n",
    "store_path = 'data_backup/feed_data/0712'\n",
    "training_set = pd.DataFrame(np.append(np.load(store_path + '/x_feature_train_all/all_data.npy'), np.array([np.load(store_path +  '/y_train_all/all_data.npy')]).T, axis = 1))\n",
    "test_set = pd.DataFrame(np.append(np.load(store_path + '/' + \"x_feature_test_all\"+ '/all_data.npy'), np.array([np.load(store_path + '/' + 'y_test_all' + '/all_data.npy')]).T, axis = 1))"
   ]
  },
  {
   "cell_type": "code",
   "execution_count": 32,
   "metadata": {},
   "outputs": [
    {
     "name": "stdout",
     "output_type": "stream",
     "text": [
      "0.266590389016\n"
     ]
    }
   ],
   "source": [
    "import gbdt\n",
    "config = {'loss_func': 'logloss',\n",
    "          'num_trees': 30,\n",
    "          'num_leaves': 16,\n",
    "          'example_sampling_rate': 0.5,\n",
    "          'feature_sampling_rate': 0.8,\n",
    "          'pair_sampling_rate': 20,\n",
    "          'min_hessian': 500,\n",
    "          'shrinkage' : 0.05}\n",
    "\n",
    "training_set.to_csv(\"training_set_all.tsv\", sep = \"\\t\")\n",
    "test_set.to_csv(\"test_set_all.tsv\", sep = \"\\t\")\n",
    "training_data = gbdt.DataLoader.from_tsvs( tsvs=[\"training_set_all.tsv\"],\n",
    "    bucketized_float_cols=[str(int(_)) for _ in range(181)])\n",
    "\n",
    "training_targets1 = map(lambda x: -1 if x < 1 else 1, training_data[\"180\"])\n",
    "# print training_targets1\n",
    "training_targets2 = map(lambda x: 1 if x > -1 else -1, training_data[\"180\"])\n",
    "forest1 = gbdt.train(training_data,\n",
    "                    y=training_targets1,\n",
    "                    features=[str(int(_)) for _ in range(60)],\n",
    "                    config=config)\n",
    "forest2 = gbdt.train(training_data,\n",
    "                    y=training_targets2,\n",
    "                    features=[str(int(_)) for _ in range(60)],\n",
    "                    config=config)\n",
    "forest1.feature_importance()\n",
    "forest2.feature_importance()\n",
    "# forest.feature_importance_bar_chart()\n",
    "test_data = gbdt.DataLoader.from_tsvs( tsvs=[\"test_set_all.tsv\"],\n",
    "    bucketized_float_cols=[str(int(_)) for _ in range(60)])\n",
    "test_label = list(pd.read_csv(\"test_set_all.tsv\", sep = \"\\t\")[\"180\"])\n",
    "predictions1 = forest1.predict(test_data)\n",
    "predictions2 = forest2.predict(test_data)\n",
    "predictions1 = map(lambda x: -1 if x < 0 else 1, predictions1)\n",
    "predictions2 = map(lambda x: -1 if x < 0 else 1, predictions2)\n",
    "predict = np.array(predictions1) + np.array(predictions2)\n",
    "# low_thres = -0.0041439715\n",
    "# high_thres = 0.0053592972\n",
    "enum = 0\n",
    "for i in range(len(test_label)):\n",
    "    if test_label[i] == predict[i]/2:\n",
    "        enum += 1\n",
    "\n",
    "print float(enum)/float(len(test_label))"
   ]
  },
  {
   "cell_type": "code",
   "execution_count": 23,
   "metadata": {},
   "outputs": [],
   "source": [
    "predictions11 = predictions1\n",
    "predictions22 = predictions2"
   ]
  },
  {
   "cell_type": "code",
   "execution_count": 33,
   "metadata": {},
   "outputs": [
    {
     "data": {
      "text/plain": [
       "True"
      ]
     },
     "execution_count": 33,
     "metadata": {},
     "output_type": "execute_result"
    }
   ],
   "source": [
    "predictions11 == predictions1\n",
    "predictions22 == predictions2"
   ]
  },
  {
   "cell_type": "code",
   "execution_count": 30,
   "metadata": {},
   "outputs": [],
   "source": [
    "c = forest1.feature_importance()"
   ]
  },
  {
   "cell_type": "code",
   "execution_count": 34,
   "metadata": {},
   "outputs": [
    {
     "data": {
      "text/plain": [
       "False"
      ]
     },
     "execution_count": 34,
     "metadata": {},
     "output_type": "execute_result"
    }
   ],
   "source": [
    "c == forest1.feature_importance()"
   ]
  },
  {
   "cell_type": "code",
   "execution_count": 36,
   "metadata": {},
   "outputs": [
    {
     "data": {
      "text/plain": [
       "([(u'12', 1.0),\n",
       "  (u'39', 0.5093599822418783),\n",
       "  (u'59', 0.40430991361904733),\n",
       "  (u'8', 0.38897455237901873),\n",
       "  (u'20', 0.3694736128315071),\n",
       "  (u'45', 0.34513330245171514),\n",
       "  (u'46', 0.26607668236420556),\n",
       "  (u'34', 0.2516639577633688),\n",
       "  (u'24', 0.24078890145539728),\n",
       "  (u'56', 0.23327284210691898),\n",
       "  (u'57', 0.22129363290611542),\n",
       "  (u'14', 0.18379393986227063),\n",
       "  (u'4', 0.18123431566638584),\n",
       "  (u'10', 0.1809798034315547),\n",
       "  (u'30', 0.174037905943039),\n",
       "  (u'44', 0.15772444539897784),\n",
       "  (u'1', 0.15504455087574187),\n",
       "  (u'43', 0.12111794662392876),\n",
       "  (u'0', 0.1026167734350173),\n",
       "  (u'28', 0.10092585240348129),\n",
       "  (u'36', 0.09518467396548819),\n",
       "  (u'5', 0.0950628351712737),\n",
       "  (u'27', 0.09476681145423092),\n",
       "  (u'53', 0.08627215568219324),\n",
       "  (u'31', 0.08395365887278206),\n",
       "  (u'9', 0.08315800980968387),\n",
       "  (u'54', 0.07908857409546553),\n",
       "  (u'6', 0.07779693487574155),\n",
       "  (u'21', 0.07226669543626445),\n",
       "  (u'25', 0.07166552083100786),\n",
       "  (u'7', 0.0622747115874336),\n",
       "  (u'2', 0.05949279201476538)],\n",
       " [(u'12', 1.0),\n",
       "  (u'8', 0.5226764956014402),\n",
       "  (u'82', 0.47981140343468276),\n",
       "  (u'64', 0.425421827920426),\n",
       "  (u'68', 0.4221188248252744),\n",
       "  (u'59', 0.3441193775877093),\n",
       "  (u'60', 0.30609348225979494),\n",
       "  (u'45', 0.3033760901474421),\n",
       "  (u'25', 0.2996764088381928),\n",
       "  (u'57', 0.28076205858021447),\n",
       "  (u'46', 0.2805628583158736),\n",
       "  (u'14', 0.27570317357890883),\n",
       "  (u'39', 0.2676771999143228),\n",
       "  (u'36', 0.256116000343669),\n",
       "  (u'97', 0.25525926287440037),\n",
       "  (u'65', 0.2016919113910197),\n",
       "  (u'95', 0.19034944550995647),\n",
       "  (u'86', 0.18528912701825334),\n",
       "  (u'28', 0.17320098897766),\n",
       "  (u'99', 0.1647725897252542),\n",
       "  (u'43', 0.15444313210229932),\n",
       "  (u'54', 0.15063777181133162),\n",
       "  (u'63', 0.14763413965312464),\n",
       "  (u'61', 0.14456416431976488),\n",
       "  (u'71', 0.14037127972153945),\n",
       "  (u'78', 0.12954225858696472),\n",
       "  (u'93', 0.1271360789442992),\n",
       "  (u'44', 0.11889489249139236),\n",
       "  (u'67', 0.11564528338553681),\n",
       "  (u'35', 0.11492634616005007),\n",
       "  (u'27', 0.10861375216718369),\n",
       "  (u'20', 0.10839021687430818),\n",
       "  (u'41', 0.10156195201159535),\n",
       "  (u'7', 0.09893264596366473),\n",
       "  (u'66', 0.09452786881756395),\n",
       "  (u'55', 0.09110187396505803)])"
      ]
     },
     "execution_count": 36,
     "metadata": {},
     "output_type": "execute_result"
    }
   ],
   "source": [
    "forest1.feature_importance(), c"
   ]
  },
  {
   "cell_type": "code",
   "execution_count": null,
   "metadata": {},
   "outputs": [],
   "source": []
  }
 ],
 "metadata": {
  "kernelspec": {
   "display_name": "Python2.7",
   "language": "python",
   "name": "py27"
  },
  "language_info": {
   "codemirror_mode": {
    "name": "ipython",
    "version": 2
   },
   "file_extension": ".py",
   "mimetype": "text/x-python",
   "name": "python",
   "nbconvert_exporter": "python",
   "pygments_lexer": "ipython2",
   "version": "2.7.16"
  }
 },
 "nbformat": 4,
 "nbformat_minor": 2
}
