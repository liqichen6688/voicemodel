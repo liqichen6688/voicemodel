{
 "cells": [
  {
   "cell_type": "markdown",
   "metadata": {},
   "source": [
    "Copyright (C) 2016 - 2019 Pinard Liu(liujianping-ok@163.com)\n",
    "\n",
    "https://www.cnblogs.com/pinard\n",
    "\n",
    "Permission given to modify the code as long as you keep this declaration at the top\n",
    "\n",
    "scikit-learn 梯度提升树(GBDT)调参小结 https://www.cnblogs.com/pinard/p/6143927.html"
   ]
  },
  {
   "cell_type": "code",
   "execution_count": 3,
   "metadata": {
    "scrolled": false
   },
   "outputs": [],
   "source": [
    "import pandas as pd\n",
    "import numpy as np\n",
    "from sklearn.ensemble import GradientBoostingClassifier\n",
    "from sklearn import model_selection, metrics\n",
    "from sklearn.model_selection import GridSearchCV\n",
    "\n",
    "import matplotlib.pylab as plt\n",
    "%matplotlib inline"
   ]
  },
  {
   "cell_type": "code",
   "execution_count": 21,
   "metadata": {},
   "outputs": [
    {
     "name": "stdout",
     "output_type": "stream",
     "text": [
      "       Disbursed  Existing_EMI           ID  Loan_Amount_Applied  \\\n",
      "0              0           0.0  ID000002C20               300000   \n",
      "1              0           0.0  ID000004E40               200000   \n",
      "2              0           0.0  ID000007H20               600000   \n",
      "3              0           0.0  ID000008I30              1000000   \n",
      "4              0       25000.0  ID000009J40               500000   \n",
      "5              0       15000.0  ID000010K00               300000   \n",
      "6              0           0.0  ID000011L10                    6   \n",
      "7              0        2597.0  ID000012M20               200000   \n",
      "8              0           0.0  ID000013N30                    0   \n",
      "9              0           0.0  ID000014O40               300000   \n",
      "10             0           0.0  ID000016Q10              1000000   \n",
      "11             0           0.0  ID000018S30               140000   \n",
      "12             0           0.0  ID000019T40               500000   \n",
      "13             0        4600.0  ID000021V10               200000   \n",
      "14             0        1200.0  ID000022W20               100000   \n",
      "15             0           0.0  ID000023X30               500000   \n",
      "16             0        2550.0  ID000024Y40               300000   \n",
      "17             0           0.0  ID000025Z00               100000   \n",
      "18             0        7000.0  ID000027B20               500000   \n",
      "19             0       10000.0  ID000028C30               500000   \n",
      "20             0           0.0  ID000029D40                    0   \n",
      "21             0           0.0  ID000031F10                    0   \n",
      "22             0           0.0  ID000032G20                    0   \n",
      "23             0        5000.0  ID000033H30              1000000   \n",
      "24             0           0.0  ID000034I40                    0   \n",
      "25             0           0.0  ID000035J00               300000   \n",
      "26             0           0.0  ID000037L20               300000   \n",
      "27             0           0.0  ID000040O00                    0   \n",
      "28             0           0.0  ID000041P10               100000   \n",
      "29             0           0.0  ID000043R30              1000000   \n",
      "...          ...           ...          ...                  ...   \n",
      "19970          0        6625.0  ID028666O10               500000   \n",
      "19971          0        5000.0  ID028667P20               100000   \n",
      "19972          0           0.0  ID028668Q30               500000   \n",
      "19973          0           0.0  ID028670S00                    0   \n",
      "19974          0           0.0  ID028671T10                    0   \n",
      "19975          0        3000.0  ID028672U20               100000   \n",
      "19976          0           0.0  ID028673V30                    0   \n",
      "19977          0           0.0  ID028674W40                    0   \n",
      "19978          0       10000.0  ID028676Y10               500000   \n",
      "19979          0       10000.0  ID028677Z20              1000000   \n",
      "19980          0           0.0  ID028678A30               500000   \n",
      "19981          0           0.0  ID028679B40               200000   \n",
      "19982          0           0.0  ID028683F30                    0   \n",
      "19983          0           0.0  ID028684G40                    0   \n",
      "19984          0           0.0  ID028685H00                    0   \n",
      "19985          0           0.0  ID028686I10               500000   \n",
      "19986          0        7000.0  ID028688K30               100000   \n",
      "19987          0           0.0  ID028689L40                    0   \n",
      "19988          0           0.0  ID028691N10                    0   \n",
      "19989          0           0.0  ID028692O20                    0   \n",
      "19990          0           0.0  ID028695R00               200000   \n",
      "19991          0           0.0  ID028697T20               750000   \n",
      "19992          0        7000.0  ID028699V40               300000   \n",
      "19993          0           0.0  ID028700W00               100000   \n",
      "19994          0        2000.0  ID028701X10               100000   \n",
      "19995          0        3000.0  ID028702Y20               200000   \n",
      "19996          0           0.0  ID028705B00                    0   \n",
      "19997          0           0.0  ID028706C10               100000   \n",
      "19998          0           0.0  ID028707D20                    0   \n",
      "19999          0        5000.0  ID028708E30               100000   \n",
      "\n",
      "       Loan_Tenure_Applied  Monthly_Income  Var4  Var5  Age  \\\n",
      "0                        5           20000     1     0   37   \n",
      "1                        2           35000     3    13   30   \n",
      "2                        4           22500     1     0   34   \n",
      "3                        5           35000     3    10   28   \n",
      "4                        2          100000     3    17   31   \n",
      "5                        5           45000     3    17   33   \n",
      "6                        5           70000     1     0   28   \n",
      "7                        5           20000     3     3   40   \n",
      "8                        0           75000     5    13   43   \n",
      "9                        3           30000     1     0   26   \n",
      "10                       5           25000     4    11   39   \n",
      "11                       4           25000     1     0   26   \n",
      "12                       4           24000     1     0   25   \n",
      "13                       5           27000     4    11   33   \n",
      "14                       1           28000     1     0   26   \n",
      "15                       3           42000     3    14   33   \n",
      "16                       5           28994     1     0   30   \n",
      "17                       5           20000     1     0   25   \n",
      "18                       5           33000     1     0   39   \n",
      "19                       5           31500     3    12   33   \n",
      "20                       0           60000     2     5   30   \n",
      "21                       0           16000     1     0   32   \n",
      "22                       0           12000     1     0   28   \n",
      "23                       5           30000     3    10   42   \n",
      "24                       0           45000     3    13   40   \n",
      "25                       1           45000     3    14   34   \n",
      "26                       2           22843     4     3   24   \n",
      "27                       0            2900     1     0   33   \n",
      "28                       2            8500     1     0   21   \n",
      "29                       0          200000     2    14   30   \n",
      "...                    ...             ...   ...   ...  ...   \n",
      "19970                    5           48000     4    15   31   \n",
      "19971                    0           12500     1     0   23   \n",
      "19972                    5           53000     5    17   33   \n",
      "19973                    0           35000     5     6   42   \n",
      "19974                    0           30000     3    12   32   \n",
      "19975                    0           10000     1     0   23   \n",
      "19976                    0           16000     5     1   27   \n",
      "19977                    0           47000     3    15   31   \n",
      "19978                    0          312000     4    15   47   \n",
      "19979                    5           40000     3    10   50   \n",
      "19980                    5           11000     1     0   21   \n",
      "19981                    3           24000     3     3   32   \n",
      "19982                    0           37500     5     4   27   \n",
      "19983                    0          250000     5     8   25   \n",
      "19984                    0           10000     1     0   31   \n",
      "19985                    0           80000     5    11   59   \n",
      "19986                    1           25000     3    12   33   \n",
      "19987                    0           14000     1     0   55   \n",
      "19988                    0           25000     3     4   43   \n",
      "19989                    0           16000     1     0   36   \n",
      "19990                    2           17000     3     1   32   \n",
      "19991                    3           53000     1     0   28   \n",
      "19992                    5           13300     1     0   34   \n",
      "19993                    5           50000     3    15   31   \n",
      "19994                    2            7000     1     0   25   \n",
      "19995                    3           13000     1     0   28   \n",
      "19996                    0           22000     5     3   26   \n",
      "19997                    3           14000     1     0   33   \n",
      "19998                    0           24300     5     3   26   \n",
      "19999                    2           17000     1     0   28   \n",
      "\n",
      "       EMI_Loan_Submitted_Missing  ...  Var2_2  Var2_3  Var2_4  Var2_5  \\\n",
      "0                               1  ...       0       0       0       0   \n",
      "1                               0  ...       0       0       0       0   \n",
      "2                               1  ...       0       0       0       0   \n",
      "3                               1  ...       0       0       0       0   \n",
      "4                               1  ...       0       0       0       0   \n",
      "5                               0  ...       0       0       0       0   \n",
      "6                               1  ...       0       0       0       0   \n",
      "7                               1  ...       0       0       0       0   \n",
      "8                               0  ...       1       0       0       0   \n",
      "9                               0  ...       0       0       0       0   \n",
      "10                              0  ...       0       0       0       0   \n",
      "11                              1  ...       0       0       0       0   \n",
      "12                              1  ...       0       0       0       0   \n",
      "13                              0  ...       0       0       0       0   \n",
      "14                              1  ...       0       0       0       0   \n",
      "15                              1  ...       0       0       0       0   \n",
      "16                              0  ...       0       0       1       0   \n",
      "17                              1  ...       0       0       0       0   \n",
      "18                              1  ...       0       0       1       0   \n",
      "19                              1  ...       0       0       1       0   \n",
      "20                              1  ...       0       0       0       1   \n",
      "21                              1  ...       1       0       0       0   \n",
      "22                              1  ...       1       0       0       0   \n",
      "23                              1  ...       0       0       1       0   \n",
      "24                              1  ...       0       0       1       0   \n",
      "25                              1  ...       0       0       0       0   \n",
      "26                              0  ...       0       0       1       0   \n",
      "27                              1  ...       1       0       0       0   \n",
      "28                              1  ...       0       0       0       0   \n",
      "29                              1  ...       0       0       0       0   \n",
      "...                           ...  ...     ...     ...     ...     ...   \n",
      "19970                           0  ...       0       0       0       0   \n",
      "19971                           1  ...       0       0       0       0   \n",
      "19972                           0  ...       0       0       0       0   \n",
      "19973                           0  ...       1       0       0       0   \n",
      "19974                           1  ...       1       0       0       0   \n",
      "19975                           1  ...       0       0       0       0   \n",
      "19976                           0  ...       1       0       0       0   \n",
      "19977                           1  ...       0       0       0       0   \n",
      "19978                           0  ...       0       0       0       0   \n",
      "19979                           1  ...       0       0       0       0   \n",
      "19980                           1  ...       0       0       0       0   \n",
      "19981                           1  ...       0       0       0       0   \n",
      "19982                           0  ...       1       0       0       0   \n",
      "19983                           0  ...       1       0       0       0   \n",
      "19984                           1  ...       1       0       0       0   \n",
      "19985                           0  ...       0       0       0       0   \n",
      "19986                           1  ...       0       0       0       0   \n",
      "19987                           1  ...       1       0       0       0   \n",
      "19988                           1  ...       1       0       0       0   \n",
      "19989                           1  ...       1       0       0       0   \n",
      "19990                           1  ...       0       0       0       0   \n",
      "19991                           1  ...       0       0       0       0   \n",
      "19992                           1  ...       0       0       0       0   \n",
      "19993                           1  ...       0       0       0       0   \n",
      "19994                           1  ...       0       0       0       0   \n",
      "19995                           1  ...       0       0       0       0   \n",
      "19996                           0  ...       1       0       0       0   \n",
      "19997                           1  ...       0       0       0       0   \n",
      "19998                           0  ...       1       0       0       0   \n",
      "19999                           1  ...       0       0       0       0   \n",
      "\n",
      "       Var2_6  Mobile_Verified_0  Mobile_Verified_1  Source_0  Source_1  \\\n",
      "0           1                  1                  0         1         0   \n",
      "1           1                  0                  1         1         0   \n",
      "2           0                  0                  1         0         0   \n",
      "3           0                  0                  1         0         0   \n",
      "4           0                  0                  1         0         0   \n",
      "5           0                  0                  1         0         0   \n",
      "6           0                  1                  0         0         1   \n",
      "7           0                  0                  1         0         0   \n",
      "8           0                  0                  1         1         0   \n",
      "9           0                  0                  1         0         1   \n",
      "10          0                  0                  1         0         1   \n",
      "11          0                  1                  0         1         0   \n",
      "12          0                  1                  0         0         1   \n",
      "13          0                  0                  1         0         1   \n",
      "14          0                  1                  0         0         0   \n",
      "15          0                  0                  1         0         0   \n",
      "16          0                  0                  1         1         0   \n",
      "17          0                  1                  0         1         0   \n",
      "18          0                  1                  0         0         1   \n",
      "19          0                  0                  1         0         1   \n",
      "20          0                  0                  1         0         1   \n",
      "21          0                  1                  0         0         1   \n",
      "22          0                  1                  0         0         1   \n",
      "23          0                  0                  1         0         1   \n",
      "24          0                  0                  1         0         1   \n",
      "25          0                  1                  0         0         1   \n",
      "26          0                  0                  1         0         1   \n",
      "27          0                  1                  0         0         1   \n",
      "28          0                  1                  0         0         1   \n",
      "29          0                  0                  1         0         0   \n",
      "...       ...                ...                ...       ...       ...   \n",
      "19970       0                  0                  1         0         1   \n",
      "19971       0                  1                  0         0         1   \n",
      "19972       0                  0                  1         0         0   \n",
      "19973       0                  0                  1         0         1   \n",
      "19974       0                  0                  1         0         1   \n",
      "19975       0                  1                  0         0         0   \n",
      "19976       0                  0                  1         0         1   \n",
      "19977       0                  0                  1         0         1   \n",
      "19978       0                  0                  1         0         0   \n",
      "19979       0                  0                  1         0         1   \n",
      "19980       0                  1                  0         1         0   \n",
      "19981       0                  0                  1         0         1   \n",
      "19982       0                  0                  1         0         1   \n",
      "19983       0                  0                  1         0         1   \n",
      "19984       0                  1                  0         0         1   \n",
      "19985       0                  0                  1         0         1   \n",
      "19986       0                  0                  1         0         1   \n",
      "19987       0                  1                  0         0         1   \n",
      "19988       0                  0                  1         0         1   \n",
      "19989       0                  1                  0         0         1   \n",
      "19990       0                  0                  1         0         1   \n",
      "19991       0                  1                  0         0         0   \n",
      "19992       0                  1                  0         0         1   \n",
      "19993       0                  0                  1         0         1   \n",
      "19994       0                  1                  0         0         1   \n",
      "19995       0                  1                  0         0         1   \n",
      "19996       0                  0                  1         0         1   \n",
      "19997       0                  1                  0         0         1   \n",
      "19998       0                  0                  1         0         1   \n",
      "19999       0                  1                  0         0         1   \n",
      "\n",
      "       Source_2  \n",
      "0             0  \n",
      "1             0  \n",
      "2             1  \n",
      "3             1  \n",
      "4             1  \n",
      "5             1  \n",
      "6             0  \n",
      "7             1  \n",
      "8             0  \n",
      "9             0  \n",
      "10            0  \n",
      "11            0  \n",
      "12            0  \n",
      "13            0  \n",
      "14            1  \n",
      "15            1  \n",
      "16            0  \n",
      "17            0  \n",
      "18            0  \n",
      "19            0  \n",
      "20            0  \n",
      "21            0  \n",
      "22            0  \n",
      "23            0  \n",
      "24            0  \n",
      "25            0  \n",
      "26            0  \n",
      "27            0  \n",
      "28            0  \n",
      "29            1  \n",
      "...         ...  \n",
      "19970         0  \n",
      "19971         0  \n",
      "19972         1  \n",
      "19973         0  \n",
      "19974         0  \n",
      "19975         1  \n",
      "19976         0  \n",
      "19977         0  \n",
      "19978         1  \n",
      "19979         0  \n",
      "19980         0  \n",
      "19981         0  \n",
      "19982         0  \n",
      "19983         0  \n",
      "19984         0  \n",
      "19985         0  \n",
      "19986         0  \n",
      "19987         0  \n",
      "19988         0  \n",
      "19989         0  \n",
      "19990         0  \n",
      "19991         1  \n",
      "19992         0  \n",
      "19993         0  \n",
      "19994         0  \n",
      "19995         0  \n",
      "19996         0  \n",
      "19997         0  \n",
      "19998         0  \n",
      "19999         0  \n",
      "\n",
      "[20000 rows x 51 columns]\n"
     ]
    },
    {
     "data": {
      "text/plain": [
       "0    19680\n",
       "1      320\n",
       "Name: Disbursed, dtype: int64"
      ]
     },
     "execution_count": 21,
     "metadata": {},
     "output_type": "execute_result"
    }
   ],
   "source": [
    "train = pd.read_csv('train_modified.csv')\n",
    "\n",
    "train = pd.read_csv(\"aaa.tsv\", sep = '\\t')\n",
    "print train\n",
    "target='Disbursed' # Disbursed的值就是二元分类的输出\n",
    "IDcol = 'ID'\n",
    "train['Disbursed'].value_counts() "
   ]
  },
  {
   "cell_type": "code",
   "execution_count": 5,
   "metadata": {},
   "outputs": [],
   "source": [
    "x_columns = [x for x in train.columns if x not in [target, IDcol]]\n",
    "X = train[x_columns]\n",
    "y = train['Disbursed']"
   ]
  },
  {
   "cell_type": "code",
   "execution_count": 20,
   "metadata": {},
   "outputs": [
    {
     "name": "stdout",
     "output_type": "stream",
     "text": [
      "[0 0 0 ... 0 0 0]\n",
      "25\n",
      "Accuracy : 0.9852\n",
      "AUC Score (Train): 0.900531\n"
     ]
    }
   ],
   "source": [
    "gbm0 = GradientBoostingClassifier(random_state=10)\n",
    "gbm0.fit(X,y)\n",
    "y_pred = gbm0.predict(X)\n",
    "print y_pred\n",
    "print np.sum(y_pred)\n",
    "y_predprob = gbm0.predict_proba(X)[:,1]\n",
    "print \"Accuracy : %.4g\" % metrics.accuracy_score(y.values, y_pred)\n",
    "print \"AUC Score (Train): %f\" % metrics.roc_auc_score(y, y_predprob)"
   ]
  },
  {
   "cell_type": "code",
   "execution_count": 22,
   "metadata": {},
   "outputs": [
    {
     "data": {
      "text/plain": [
       "(array([0.81284735, 0.81437929, 0.81403709, 0.81592869, 0.81926607,\n",
       "        0.81721608, 0.81485328]), {'n_estimators': 60}, 0.8192660696138212)"
      ]
     },
     "execution_count": 22,
     "metadata": {},
     "output_type": "execute_result"
    }
   ],
   "source": [
    "param_test1 = {'n_estimators':range(20,81,10)}\n",
    "gsearch1 = GridSearchCV(estimator = GradientBoostingClassifier(learning_rate=0.1, min_samples_split=300,\n",
    "                                  min_samples_leaf=20,max_depth=8,max_features='sqrt', subsample=0.8,random_state=10), \n",
    "                       param_grid = param_test1, scoring='roc_auc',iid=False,cv=5)\n",
    "gsearch1.fit(X,y)\n",
    "gsearch1.cv_results_['mean_test_score'], gsearch1.best_params_, gsearch1.best_score_, "
   ]
  },
  {
   "cell_type": "markdown",
   "metadata": {},
   "source": []
  },
  {
   "cell_type": "code",
   "execution_count": 23,
   "metadata": {},
   "outputs": [
    {
     "data": {
      "text/plain": [
       "(array([0.81198869, 0.81267388, 0.81237654, 0.80924956, 0.81845981,\n",
       "        0.81630145, 0.81314548, 0.81261631, 0.8180676 , 0.82137243,\n",
       "        0.8168072 , 0.81383067, 0.81094266, 0.80967829, 0.81555712,\n",
       "        0.81600927, 0.81164213, 0.81309427, 0.81693304, 0.81346505,\n",
       "        0.81480008, 0.80911776, 0.81958802, 0.81382074]),\n",
       " {'max_depth': 7, 'min_samples_split': 300},\n",
       " 0.8213724275914632)"
      ]
     },
     "execution_count": 23,
     "metadata": {},
     "output_type": "execute_result"
    }
   ],
   "source": [
    "param_test2 = {'max_depth':range(3,14,2), 'min_samples_split':range(100,801,200)}\n",
    "gsearch2 = GridSearchCV(estimator = GradientBoostingClassifier(learning_rate=0.1, n_estimators=60, min_samples_leaf=20, \n",
    "      max_features='sqrt', subsample=0.8, random_state=10), \n",
    "   param_grid = param_test2, scoring='roc_auc',iid=False, cv=5)\n",
    "gsearch2.fit(X,y)\n",
    "gsearch2.cv_results_['mean_test_score'], gsearch2.best_params_, gsearch2.best_score_, "
   ]
  },
  {
   "cell_type": "code",
   "execution_count": 10,
   "metadata": {},
   "outputs": [
    {
     "data": {
      "text/plain": [
       "(array([0.81827919, 0.81731255, 0.8222033 , 0.8144698 , 0.81495371,\n",
       "        0.81528439, 0.81590487, 0.81572702, 0.82021405, 0.81512044,\n",
       "        0.81395095, 0.81586914, 0.82063564, 0.81489972, 0.82009218,\n",
       "        0.81850308, 0.81855231, 0.81665754, 0.81960151, 0.81560198,\n",
       "        0.81936055, 0.81361749, 0.81429473, 0.81299027, 0.81999889,\n",
       "        0.82209294, 0.81820535, 0.81940422, 0.81544596, 0.8170426 ]),\n",
       " {'min_samples_leaf': 60, 'min_samples_split': 1200},\n",
       " 0.8222032996697154)"
      ]
     },
     "execution_count": 10,
     "metadata": {},
     "output_type": "execute_result"
    }
   ],
   "source": [
    "param_test3 = {'min_samples_split':range(800,1900,200), 'min_samples_leaf':range(60,101,10)}\n",
    "gsearch3 = GridSearchCV(estimator = GradientBoostingClassifier(learning_rate=0.1, n_estimators=60,max_depth=7,\n",
    "                                     max_features='sqrt', subsample=0.8, random_state=10), \n",
    "                       param_grid = param_test3, scoring='roc_auc',iid=False, cv=5)\n",
    "gsearch3.fit(X,y)\n",
    "gsearch3.cv_results_['mean_test_score'], gsearch3.best_params_, gsearch3.best_score_, "
   ]
  },
  {
   "cell_type": "code",
   "execution_count": 11,
   "metadata": {},
   "outputs": [
    {
     "name": "stdout",
     "output_type": "stream",
     "text": [
      "Accuracy : 0.984\n",
      "AUC Score (Train): 0.908099\n"
     ]
    }
   ],
   "source": [
    "gbm1 = GradientBoostingClassifier(learning_rate=0.1, n_estimators=60,max_depth=7, min_samples_leaf =60, \n",
    "               min_samples_split =1200, max_features='sqrt', subsample=0.8, random_state=10)\n",
    "gbm1.fit(X,y)\n",
    "y_pred = gbm1.predict(X)\n",
    "y_predprob = gbm1.predict_proba(X)[:,1]\n",
    "print \"Accuracy : %.4g\" % metrics.accuracy_score(y.values, y_pred)\n",
    "print \"AUC Score (Train): %f\" % metrics.roc_auc_score(y, y_predprob)"
   ]
  },
  {
   "cell_type": "code",
   "execution_count": 12,
   "metadata": {},
   "outputs": [
    {
     "data": {
      "text/plain": [
       "(array([0.8222033 , 0.82241251, 0.82108184, 0.82064239, 0.82198258,\n",
       "        0.81354802, 0.81876866]), {'max_features': 9}, 0.822412506351626)"
      ]
     },
     "execution_count": 12,
     "metadata": {},
     "output_type": "execute_result"
    }
   ],
   "source": [
    "param_test4 = {'max_features':range(7,20,2)}\n",
    "gsearch4 = GridSearchCV(estimator = GradientBoostingClassifier(learning_rate=0.1, n_estimators=60,max_depth=7, min_samples_leaf =60, \n",
    "               min_samples_split =1200, subsample=0.8, random_state=10), \n",
    "                       param_grid = param_test4, scoring='roc_auc',iid=False, cv=5)\n",
    "gsearch4.fit(X,y)\n",
    "gsearch4.cv_results_['mean_test_score'], gsearch4.best_params_, gsearch4.best_score_"
   ]
  },
  {
   "cell_type": "code",
   "execution_count": 13,
   "metadata": {},
   "outputs": [
    {
     "data": {
      "text/plain": [
       "(array([0.8182768 , 0.8234379 , 0.81673217, 0.82241251, 0.8228468 ,\n",
       "        0.81738003]), {'subsample': 0.7}, 0.8234378969766262)"
      ]
     },
     "execution_count": 13,
     "metadata": {},
     "output_type": "execute_result"
    }
   ],
   "source": [
    "param_test5 = {'subsample':[0.6,0.7,0.75,0.8,0.85,0.9]}\n",
    "gsearch5 = GridSearchCV(estimator = GradientBoostingClassifier(learning_rate=0.1, n_estimators=60,max_depth=7, min_samples_leaf =60, \n",
    "               min_samples_split =1200, max_features=9, random_state=10), \n",
    "                       param_grid = param_test5, scoring='roc_auc',iid=False, cv=5)\n",
    "gsearch5.fit(X,y)\n",
    "gsearch5.cv_results_['mean_test_score'], gsearch5.best_params_, gsearch5.best_score_\n"
   ]
  },
  {
   "cell_type": "code",
   "execution_count": 14,
   "metadata": {},
   "outputs": [
    {
     "name": "stdout",
     "output_type": "stream",
     "text": [
      "Accuracy : 0.984\n",
      "AUC Score (Train): 0.905324\n"
     ]
    }
   ],
   "source": [
    "gbm2 = GradientBoostingClassifier(learning_rate=0.05, n_estimators=120,max_depth=7, min_samples_leaf =60, \n",
    "               min_samples_split =1200, max_features=9, subsample=0.7, random_state=10)\n",
    "gbm2.fit(X,y)\n",
    "y_pred = gbm2.predict(X)\n",
    "y_predprob = gbm2.predict_proba(X)[:,1]\n",
    "print \"Accuracy : %.4g\" % metrics.accuracy_score(y.values, y_pred)\n",
    "print \"AUC Score (Train): %f\" % metrics.roc_auc_score(y, y_predprob)"
   ]
  },
  {
   "cell_type": "code",
   "execution_count": 15,
   "metadata": {},
   "outputs": [
    {
     "name": "stdout",
     "output_type": "stream",
     "text": [
      "Accuracy : 0.984\n",
      "AUC Score (Train): 0.908581\n"
     ]
    }
   ],
   "source": [
    "gbm3 = GradientBoostingClassifier(learning_rate=0.01, n_estimators=600,max_depth=7, min_samples_leaf =60, \n",
    "               min_samples_split =1200, max_features=9, subsample=0.7, random_state=10)\n",
    "gbm3.fit(X,y)\n",
    "y_pred = gbm3.predict(X)\n",
    "y_predprob = gbm3.predict_proba(X)[:,1]\n",
    "print \"Accuracy : %.4g\" % metrics.accuracy_score(y.values, y_pred)\n",
    "print \"AUC Score (Train): %f\" % metrics.roc_auc_score(y, y_predprob)"
   ]
  },
  {
   "cell_type": "code",
   "execution_count": 16,
   "metadata": {},
   "outputs": [
    {
     "name": "stdout",
     "output_type": "stream",
     "text": [
      "Accuracy : 0.984\n",
      "AUC Score (Train): 0.908232\n"
     ]
    }
   ],
   "source": [
    "gbm4 = GradientBoostingClassifier(learning_rate=0.005, n_estimators=1200,max_depth=7, min_samples_leaf =60, \n",
    "               min_samples_split =1200, max_features=9, subsample=0.7, random_state=10)\n",
    "gbm4.fit(X,y)\n",
    "y_pred = gbm4.predict(X)\n",
    "y_predprob = gbm4.predict_proba(X)[:,1]\n",
    "print \"Accuracy : %.4g\" % metrics.accuracy_score(y.values, y_pred)\n",
    "print \"AUC Score (Train): %f\" % metrics.roc_auc_score(y, y_predprob)"
   ]
  },
  {
   "cell_type": "code",
   "execution_count": 17,
   "metadata": {},
   "outputs": [
    {
     "name": "stdout",
     "output_type": "stream",
     "text": [
      "Accuracy : 0.984\n",
      "AUC Score (Train): 0.899583\n"
     ]
    }
   ],
   "source": [
    "gbm11 = GradientBoostingClassifier(learning_rate=0.1, n_estimators=60,max_depth=7, min_samples_leaf =60, \n",
    "               min_samples_split =1200, max_features=9, subsample=0.7, random_state=10)\n",
    "gbm11.fit(X,y)\n",
    "y_pred = gbm11.predict(X)\n",
    "y_predprob = gbm11.predict_proba(X)[:,1]\n",
    "print \"Accuracy : %.4g\" % metrics.accuracy_score(y.values, y_pred)\n",
    "print \"AUC Score (Train): %f\" % metrics.roc_auc_score(y, y_predprob)"
   ]
  },
  {
   "cell_type": "code",
   "execution_count": null,
   "metadata": {
    "collapsed": true
   },
   "outputs": [],
   "source": []
  }
 ],
 "metadata": {
  "kernelspec": {
   "display_name": "Python2.7",
   "language": "python",
   "name": "py27"
  },
  "language_info": {
   "codemirror_mode": {
    "name": "ipython",
    "version": 2
   },
   "file_extension": ".py",
   "mimetype": "text/x-python",
   "name": "python",
   "nbconvert_exporter": "python",
   "pygments_lexer": "ipython2",
   "version": "2.7.16"
  }
 },
 "nbformat": 4,
 "nbformat_minor": 1
}
